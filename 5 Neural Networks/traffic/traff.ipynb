{
 "metadata": {
  "language_info": {
   "codemirror_mode": {
    "name": "ipython",
    "version": 3
   },
   "file_extension": ".py",
   "mimetype": "text/x-python",
   "name": "python",
   "nbconvert_exporter": "python",
   "pygments_lexer": "ipython3",
   "version": "3.8.3-final"
  },
  "orig_nbformat": 2,
  "kernelspec": {
   "name": "python3",
   "display_name": "Python 3.8.3 64-bit",
   "metadata": {
    "interpreter": {
     "hash": "5dba66e72ee0486e027e16e76828924844942279cc40e07d7f1b688e0ff7b112"
    }
   }
  }
 },
 "nbformat": 4,
 "nbformat_minor": 2,
 "cells": [
  {
   "cell_type": "code",
   "execution_count": 2,
   "metadata": {},
   "outputs": [],
   "source": [
    "import cv2\n",
    "import numpy as np"
   ]
  },
  {
   "cell_type": "code",
   "execution_count": 6,
   "metadata": {},
   "outputs": [
    {
     "output_type": "stream",
     "name": "stdout",
     "text": [
      "<class 'numpy.ndarray'>\n[[[  0   0   0]\n  [  0   0   0]\n  [  0   0   0]\n  ...\n  [255 255 255]\n  [255 255 255]\n  [255 255 255]]\n\n [[  0   0   0]\n  [  0   0   0]\n  [  0   0   0]\n  ...\n  [  0   0   0]\n  [  6   6   6]\n  [255 255 255]]\n\n [[  0   0   0]\n  [  0   0   0]\n  [  0   0   0]\n  ...\n  [255 255 255]\n  [255 255 255]\n  [255 255 255]]\n\n ...\n\n [[  0   0   0]\n  [  0   0   0]\n  [  0   0   0]\n  ...\n  [ 74  74  74]\n  [180 180 180]\n  [255 255 255]]\n\n [[  0   0   0]\n  [  0   0   0]\n  [  0   0   0]\n  ...\n  [148 148 148]\n  [255 255 255]\n  [255 255 255]]\n\n [[  0   0   0]\n  [  0   0   0]\n  [  0   0   0]\n  ...\n  [255 255 255]\n  [255 255 255]\n  [255 255 255]]]\n"
     ]
    }
   ],
   "source": [
    "nd_arr = cv2.imread(\"s2w1.png\")\n",
    "print(type(nd_arr))\n",
    "img = cv2.resize(nd_arr, (30,30))\n",
    "print(img)"
   ]
  },
  {
   "cell_type": "code",
   "execution_count": null,
   "metadata": {},
   "outputs": [],
   "source": [
    "    model = tf.keras.models.Sequential([\n",
    "\n",
    "        # Convolutional layer. Learn 32 filters using a 3x3 kernel\n",
    "        tf.keras.layers.Conv2D(\n",
    "            32, (3, 3), activation=\"relu\", input_shape=(IMG_WIDTH, IMG_HEIGHT, 3)\n",
    "        ),\n",
    "\n",
    "        # Max-pooling layer, using 2x2 pool size\n",
    "        tf.keras.layers.MaxPooling2D(pool_size=(2, 2)),\n",
    "\n",
    "        # Flatten units\n",
    "        tf.keras.layers.Flatten(),\n",
    "\n",
    "        # Add a hidden layer with dropout\n",
    "        tf.keras.layers.Dense(128, activation=\"relu\"),\n",
    "        tf.keras.layers.Dropout(0.5),\n",
    "\n",
    "        # add output layer with 43 output units\n",
    "        tf.keras.layers.Dense(NUM_CATEGORIES, activation=\"softmax\")\n",
    "    ])"
   ]
  },
  {
   "cell_type": "code",
   "execution_count": 8,
   "metadata": {},
   "outputs": [
    {
     "output_type": "stream",
     "name": "stdout",
     "text": [
      "1\n"
     ]
    }
   ],
   "source": [
    "for filter_num in range(1,2):\n",
    "    print(filter_num)"
   ]
  },
  {
   "cell_type": "code",
   "execution_count": 9,
   "metadata": {},
   "outputs": [
    {
     "output_type": "stream",
     "name": "stdout",
     "text": [
      "0.3\n"
     ]
    }
   ],
   "source": [
    "for d_o in [0.3]:\n",
    "     print(d_o)"
   ]
  }
 ]
}