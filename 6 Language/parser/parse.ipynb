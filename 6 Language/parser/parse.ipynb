{
 "metadata": {
  "language_info": {
   "codemirror_mode": {
    "name": "ipython",
    "version": 3
   },
   "file_extension": ".py",
   "mimetype": "text/x-python",
   "name": "python",
   "nbconvert_exporter": "python",
   "pygments_lexer": "ipython3",
   "version": "3.8.3-final"
  },
  "orig_nbformat": 2,
  "kernelspec": {
   "name": "python3",
   "display_name": "Python 3.8.3 64-bit",
   "metadata": {
    "interpreter": {
     "hash": "5dba66e72ee0486e027e16e76828924844942279cc40e07d7f1b688e0ff7b112"
    }
   }
  }
 },
 "nbformat": 4,
 "nbformat_minor": 2,
 "cells": [
  {
   "cell_type": "code",
   "execution_count": 7,
   "metadata": {},
   "outputs": [
    {
     "output_type": "stream",
     "name": "stderr",
     "text": [
      "[nltk_data] Downloading package punkt to\n[nltk_data]     C:\\Users\\zenga\\AppData\\Roaming\\nltk_data...\n[nltk_data]   Package punkt is already up-to-date!\n"
     ]
    }
   ],
   "source": [
    "import nltk\n",
    "nltk.download('punkt')\n",
    "import re"
   ]
  },
  {
   "cell_type": "code",
   "execution_count": 9,
   "metadata": {},
   "outputs": [],
   "source": [
    "aa = nltk.word_tokenize(\"sentenEce Is a sequasdDASDASFence, of 2a9 woSDrds asdD. !\".lower())"
   ]
  },
  {
   "cell_type": "code",
   "execution_count": 12,
   "metadata": {},
   "outputs": [
    {
     "output_type": "stream",
     "name": "stdout",
     "text": [
      "['sentenece', 'is', 'a', 'sequasddasdasfence', 'of', '2a9', 'wosdrds', 'asdd']\n"
     ]
    }
   ],
   "source": [
    "print([s  for s in aa if re.search('[a-zA-Z]', s)])"
   ]
  },
  {
   "cell_type": "code",
   "execution_count": 15,
   "metadata": {},
   "outputs": [],
   "source": [
    "t = nltk.tree.Tree.fromstring(\"(S (NP (D the) (N dog)) (VP (V chased) (NP (D the) (N cat))))\")"
   ]
  },
  {
   "cell_type": "code",
   "execution_count": 34,
   "metadata": {},
   "outputs": [
    {
     "output_type": "stream",
     "name": "stdout",
     "text": [
      "(NP (D the) (N dog))\n(NP (D the) (N cat))\n"
     ]
    }
   ],
   "source": [
    "for subtree in t.subtrees(filter=lambda t: t.label()==\"NP\"):\n",
    "    subtreestring = subtree.pformat()\n",
    "    removelabel = subtreestring[3:]\n",
    "    if \"NP\" not in removelabel:\n",
    "        print(subtree)\n",
    "    #chunk.append(subtree if \"NP\" not in subtree.subtrees().label())"
   ]
  }
 ]
}