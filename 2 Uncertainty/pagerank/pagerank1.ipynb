{
 "metadata": {
  "language_info": {
   "codemirror_mode": {
    "name": "ipython",
    "version": 3
   },
   "file_extension": ".py",
   "mimetype": "text/x-python",
   "name": "python",
   "nbconvert_exporter": "python",
   "pygments_lexer": "ipython3",
   "version": "3.8.3-final"
  },
  "orig_nbformat": 2,
  "kernelspec": {
   "name": "python3",
   "display_name": "Python 3.8.3 64-bit",
   "metadata": {
    "interpreter": {
     "hash": "5dba66e72ee0486e027e16e76828924844942279cc40e07d7f1b688e0ff7b112"
    }
   }
  }
 },
 "nbformat": 4,
 "nbformat_minor": 2,
 "cells": [
  {
   "cell_type": "code",
   "execution_count": 1,
   "metadata": {},
   "outputs": [],
   "source": [
    "import random\n",
    "import copy\n",
    "corpus0 = {'1.html': {'2.html'}, '2.html': {'1.html', '3.html'}, '3.html': {'2.html', '4.html'}, '4.html': {'2.html'}}\n",
    "corpus1 = {'bfs.html': {'search.html'}, 'dfs.html': {'bfs.html', 'search.html'}, 'games.html': {'minesweeper.html', 'tictactoe.html'}, 'minesweeper.html': {'games.html'}, 'minimax.html': {'search.html', 'games.html'}, 'search.html': {'minimax.html', 'bfs.html', 'dfs.html'}, 'tictactoe.html': {'minimax.html', 'games.html'}}\n",
    "corpus2 = {'ai.html': {'inference.html', 'algorithms.html'}, 'algorithms.html': {'recursion.html', 'programming.html'}, 'c.html': {'programming.html'}, 'inference.html': {'ai.html'}, 'logic.html': {'inference.html'}, 'programming.html': {'c.html', 'python.html'}, 'python.html': {'ai.html', 'programming.html'}, 'recursion.html': set()}"
   ]
  },
  {
   "cell_type": "code",
   "execution_count": 2,
   "metadata": {},
   "outputs": [],
   "source": [
    "def transition_model(corpus, curr_page, damping_factor):\n",
    "    \"\"\"\n",
    "    Return a probability distribution over which page to visit next,\n",
    "    given a current page.\n",
    "\n",
    "    With probability `damping_factor`, choose a link at random\n",
    "    linked to by `page`. With probability `1 - damping_factor`, choose\n",
    "    a link at random chosen from all pages in the corpus.\n",
    "    \"\"\"\n",
    "\n",
    "    if len(corpus[curr_page]):\n",
    "        #if page has outgoing links\n",
    "        prdict = {pages: (\n",
    "                damping_factor/len(corpus[curr_page]) +(1-damping_factor)/len(corpus) \n",
    "                if pages in corpus[curr_page] \n",
    "                else (1-damping_factor)/len(corpus))\n",
    "                for pages in corpus\n",
    "                }\n",
    "        #print(prdict)\n",
    "        \n",
    "    else:#no outgoing links\n",
    "        prdict = {pages: 1/len(corpus)\n",
    "                for pages in corpus\n",
    "                }\n",
    "        #print(prdict)\n",
    "\n",
    "    \"\"\"\n",
    "    The return value of the function should be a Python dictionary with one key for each page in the corpus. Each key should be mapped to a value representing the probability that a random surfer would choose that page next. The values in this returned probability distribution should sum to 1.\n",
    "    {page:pr}\n",
    "    \"\"\"\n",
    "    return prdict\n",
    "    raise NotImplementedError"
   ]
  },
  {
   "cell_type": "code",
   "execution_count": 31,
   "metadata": {},
   "outputs": [
    {
     "output_type": "stream",
     "name": "stdout",
     "text": [
      "0.4625 0.4625\nFalse\n0.5 0.037500000000000006\nFalse\n0.9625 0.4625\nFalse\n1.0 0.037500000000000006\nTrue\n"
     ]
    }
   ],
   "source": [
    "abc = transition_model(corpus0, \"2.html\", 0.85)\n",
    "sum = 0\n",
    "for a in abc:\n",
    "    sum += abc[a]\n",
    "    print(sum,abc[a])\n",
    "    print(sum==1)"
   ]
  },
  {
   "cell_type": "code",
   "execution_count": 108,
   "metadata": {},
   "outputs": [
    {
     "output_type": "stream",
     "name": "stdout",
     "text": [
      "1\n2\n2\n1\n{'3.html': 0, '1.html': 0}\n"
     ]
    }
   ],
   "source": [
    "for i in corpus0:\n",
    "    print(len(corpus0[i]))\n",
    "\n",
    "probs = {\n",
    "        next_page: 0\n",
    "            \n",
    "        for next_page in corpus0[\"2.html\"]\n",
    "    }\n",
    "print(probs)"
   ]
  },
  {
   "cell_type": "code",
   "execution_count": 2,
   "metadata": {},
   "outputs": [],
   "source": [
    "corpusa = {'1.html': {'2.html'}, '2.html': set() , '3.html': {'2.html', '4.html'}, '4.html': {'2.html'}}"
   ]
  },
  {
   "cell_type": "code",
   "execution_count": 84,
   "metadata": {},
   "outputs": [],
   "source": [
    "def sample_pagerank(corpus, damping_factor, n):\n",
    "    \"\"\"\n",
    "    Return PageRank values for each page by sampling `n` pages\n",
    "    according to transition model, starting with a page at random.\n",
    "\n",
    "    Return a dictionary where keys are page names, and values are\n",
    "    their estimated PageRank value (a value between 0 and 1). All\n",
    "    PageRank values should sum to 1.\n",
    "    \"\"\"\n",
    "\n",
    "    #random starting page\n",
    "    r = random.randint(0,len(corpus)-1)\n",
    "    count=0\n",
    "    for i in corpus:\n",
    "        if count == r:\n",
    "            page = i\n",
    "            break\n",
    "        count+=1\n",
    "    spdict = {pages: 0\n",
    "              for pages in corpus\n",
    "             }\n",
    "    spdict[page] += 1/n\n",
    "\n",
    "    for j in range(1,n):\n",
    "        prdict = transition_model(corpus, page, damping_factor)\n",
    "        r2=random.random()\n",
    "        #Choosing next page by probability\n",
    "        for i in prdict:\n",
    "            r2 = r2 - prdict[i]\n",
    "            if r2 < 0:\n",
    "                page = i\n",
    "                spdict[page] += 1/n\n",
    "                break\n",
    "            \n",
    "    return spdict\n",
    "    raise NotImplementedError"
   ]
  },
  {
   "cell_type": "code",
   "execution_count": 105,
   "metadata": {},
   "outputs": [
    {
     "output_type": "stream",
     "name": "stdout",
     "text": [
      "{'1.html': 0.14458700000012392, '2.html': 0.504230999993662, '3.html': 0.144673000000124, '4.html': 0.20650900000018585}\n"
     ]
    }
   ],
   "source": [
    "print(sample_pagerank(corpusa,0.85,1000000))"
   ]
  },
  {
   "cell_type": "code",
   "execution_count": 64,
   "metadata": {},
   "outputs": [],
   "source": [
    "def iterate_pagerank(corpus, damping_factor):\n",
    "    \"\"\"\n",
    "    Return PageRank values for each page by iteratively updating\n",
    "    PageRank values until convergence.\n",
    "\n",
    "    Return a dictionary where keys are page names, and values are\n",
    "    their estimated PageRank value (a value between 0 and 1). All\n",
    "    PageRank values should sum to 1.\n",
    "    \"\"\"\n",
    "    ACC_DIFF = 0.001\n",
    "    corpuscopy = copy.deepcopy(corpus)\n",
    "    for p in corpuscopy:\n",
    "        if not len(corpus[p]): #no outgoing links\n",
    "             corpuscopy[p] = {s for s in corpus}\n",
    "\n",
    "    itrdict = {pages: 1/len(corpus)\n",
    "              for pages in corpus\n",
    "             }\n",
    "\n",
    "    flag = 0\n",
    "    while(flag < len(itrdict)):#when all converged\n",
    "        flag = 0\n",
    "        itrdict_old = copy.deepcopy(itrdict)\n",
    "        for p in itrdict:\n",
    "            #PR(p) = (1-damping_factor)/len(corpus) + damping_factor*sum(PRi)/numLinks(i)\n",
    "            \n",
    "            sum_df = 0\n",
    "\n",
    "            for i in corpuscopy:        #for all pages in corpus,\n",
    "                if p in corpuscopy[i]:  #look for pages linking to p\n",
    "                    #print(i,p,\"left links to right\")\n",
    "                    sum_df += itrdict_old[i]/len(corpuscopy[i])\n",
    "            itrdict[p] =  (1-damping_factor)/len(corpuscopy) + damping_factor*sum_df\n",
    "\n",
    "            if abs(itrdict[p] - itrdict_old[p]) < ACC_DIFF:\n",
    "                flag+=1\n",
    "                #print(flag)\n",
    "                #print(itrdict[p],itrdict_old[p])\n",
    "            #else:\n",
    "                #print(\"noflag\",itrdict[p],itrdict_old[p],p)\n",
    "    #print(\"converged\")\n",
    "    return itrdict\n",
    "    raise NotImplementedError\n"
   ]
  },
  {
   "cell_type": "code",
   "execution_count": 65,
   "metadata": {},
   "outputs": [
    {
     "output_type": "stream",
     "name": "stdout",
     "text": [
      "2.html 1.html left links to right\n1.html 2.html left links to right\n2.html 2.html left links to right\n3.html 2.html left links to right\n4.html 2.html left links to right\n2.html 3.html left links to right\n2.html 4.html left links to right\n3.html 4.html left links to right\n2.html 1.html left links to right\n1.html 2.html left links to right\n2.html 2.html left links to right\n3.html 2.html left links to right\n4.html 2.html left links to right\n2.html 3.html left links to right\n2.html 4.html left links to right\n3.html 4.html left links to right\n2.html 1.html left links to right\n1.html 2.html left links to right\n2.html 2.html left links to right\n3.html 2.html left links to right\n4.html 2.html left links to right\n2.html 3.html left links to right\n2.html 4.html left links to right\n3.html 4.html left links to right\n2.html 1.html left links to right\n1.html 2.html left links to right\n2.html 2.html left links to right\n3.html 2.html left links to right\n4.html 2.html left links to right\n2.html 3.html left links to right\n2.html 4.html left links to right\n3.html 4.html left links to right\n2.html 1.html left links to right\n1.html 2.html left links to right\n2.html 2.html left links to right\n3.html 2.html left links to right\n4.html 2.html left links to right\n2.html 3.html left links to right\n2.html 4.html left links to right\n3.html 4.html left links to right\n2.html 1.html left links to right\n1.html 2.html left links to right\n2.html 2.html left links to right\n3.html 2.html left links to right\n4.html 2.html left links to right\n2.html 3.html left links to right\n2.html 4.html left links to right\n3.html 4.html left links to right\n2.html 1.html left links to right\n1.html 2.html left links to right\n2.html 2.html left links to right\n3.html 2.html left links to right\n4.html 2.html left links to right\n2.html 3.html left links to right\n2.html 4.html left links to right\n3.html 4.html left links to right\n2.html 1.html left links to right\n1.html 2.html left links to right\n2.html 2.html left links to right\n3.html 2.html left links to right\n4.html 2.html left links to right\n2.html 3.html left links to right\n2.html 4.html left links to right\n3.html 4.html left links to right\n2.html 1.html left links to right\n1.html 2.html left links to right\n2.html 2.html left links to right\n3.html 2.html left links to right\n4.html 2.html left links to right\n2.html 3.html left links to right\n2.html 4.html left links to right\n3.html 4.html left links to right\n{'1.html': 0.14462420497889006, '2.html': 0.5045660617440886, '3.html': 0.14462420497889006, '4.html': 0.20618552829813136}\n"
     ]
    }
   ],
   "source": [
    "print(iterate_pagerank(corpusa,0.85))"
   ]
  },
  {
   "cell_type": "code",
   "execution_count": 72,
   "metadata": {},
   "outputs": [
    {
     "output_type": "stream",
     "name": "stdout",
     "text": [
      "False\n1\n"
     ]
    }
   ],
   "source": [
    "print(True and False)\n",
    "x,y = (1,2)\n",
    "print(x)"
   ]
  }
 ]
}